{
 "cells": [
  {
   "cell_type": "code",
   "execution_count": 2,
   "id": "85aea2a2-5d27-4c1b-b407-247d53507b05",
   "metadata": {},
   "outputs": [
    {
     "name": "stdout",
     "output_type": "stream",
     "text": [
      "2.2.2\n",
      "False\n"
     ]
    }
   ],
   "source": [
    "import torch\n",
    "print(torch.__version__)\n",
    "print(torch.cuda.is_available())  # Should be False on CPU-only\n"
   ]
  },
  {
   "cell_type": "code",
   "execution_count": 10,
   "id": "53261139",
   "metadata": {},
   "outputs": [],
   "source": [
    "import torch\n",
    "from torch import nn\n",
    "\n",
    "import math\n",
    "import matplotlib.pyplot as plt\n"
   ]
  },
  {
   "cell_type": "code",
   "execution_count": 15,
   "id": "7c8ca28a",
   "metadata": {},
   "outputs": [],
   "source": [
    "from torch.utils.data import Dataset\n",
    "import os\n",
    "from PIL import Image\n",
    "\n",
    "class MyDataset(Dataset):\n",
    "    def __init__(self, root_dir, transform=None):\n",
    "        self.root_dir = root_dir\n",
    "        self.image_files = [f for f in os.listdir(root_dir) if f.endswith(('.png', '.jpg', '.jpeg'))]\n",
    "        self.transform = transform\n",
    "\n",
    "    def __len__(self):\n",
    "        return len(self.image_files)\n",
    "\n",
    "    def __getitem__(self, idx):\n",
    "        img_path = os.path.join(self.root_dir, self.image_files[idx])\n",
    "        image = Image.open(img_path).convert(\"RGB\")\n",
    "\n",
    "        if self.transform:\n",
    "            image = self.transform(image)\n",
    "\n",
    "        return image\n",
    "\n",
    "\n"
   ]
  },
  {
   "cell_type": "code",
   "execution_count": 18,
   "id": "5950869e-9c13-43b3-9d7a-4320c4b28baa",
   "metadata": {},
   "outputs": [
    {
     "name": "stdout",
     "output_type": "stream",
     "text": [
      "Extracted successfully.\n"
     ]
    }
   ],
   "source": [
    "import zipfile\n",
    "import os\n",
    "\n",
    "zip_path = 'F:/computer vision/Eyes.zip'\n",
    "extract_to = 'F:/computer vision/Eyes'\n",
    "\n",
    "with zipfile.ZipFile(zip_path, 'r') as zip_ref:\n",
    "    zip_ref.extractall(extract_to)\n",
    "\n",
    "print(\"Extracted successfully.\")\n"
   ]
  },
  {
   "cell_type": "code",
   "execution_count": null,
   "id": "30192b13-90f4-4017-8404-4009c1eb7612",
   "metadata": {},
   "outputs": [],
   "source": [
    "dataset = MyDataset(r'F:/computer vision/Eyes')\n"
   ]
  },
  {
   "cell_type": "code",
   "execution_count": 20,
   "id": "ff8ab644",
   "metadata": {},
   "outputs": [],
   "source": [
    "train_data_length = 1024\n",
    "train_data = torch.zeros((train_data_length, 2))\n",
    "train_data[:, 0] = 2 * math.pi * torch.rand(train_data_length)\n",
    "train_data[:, 1] = torch.sin(train_data[:, 0])\n",
    "train_labels = torch.zeros(train_data_length)\n",
    "train_set = [\n",
    "    (train_data[i], train_labels[i]) for i in range(train_data_length)\n",
    "]\n"
   ]
  },
  {
   "cell_type": "code",
   "execution_count": 21,
   "id": "1b83c171",
   "metadata": {},
   "outputs": [
    {
     "data": {
      "text/plain": [
       "[<matplotlib.lines.Line2D at 0x1e0d823e490>]"
      ]
     },
     "execution_count": 21,
     "metadata": {},
     "output_type": "execute_result"
    },
    {
     "data": {
      "image/png": "[encoded data removed]",
      "text/plain": [
       "<Figure size 640x480 with 1 Axes>"
      ]
     },
     "metadata": {},
     "output_type": "display_data"
    }
   ],
   "source": [
    "plt.plot(train_data[:, 0], train_data[:, 1], \".\")\n"
   ]
  },
  {
   "cell_type": "code",
   "execution_count": 22,
   "id": "cfb118e2",
   "metadata": {},
   "outputs": [],
   "source": [
    "batch_size = 32\n",
    "train_loader = torch.utils.data.DataLoader(\n",
    "    train_set, batch_size=batch_size, shuffle=True\n",
    ")\n"
   ]
  },
  {
   "cell_type": "code",
   "execution_count": 23,
   "id": "366a0d93",
   "metadata": {},
   "outputs": [],
   "source": [
    "class Discriminator(nn.Module):\n",
    "    def __init__(self):\n",
    "        super().__init__()\n",
    "        self.model = nn.Sequential(\n",
    "            nn.Linear(2, 256),\n",
    "            nn.ReLU(),\n",
    "            nn.Dropout(0.3),\n",
    "            nn.Linear(256, 128),\n",
    "            nn.ReLU(),\n",
    "            nn.Dropout(0.3),\n",
    "            nn.Linear(128, 64),\n",
    "            nn.ReLU(),\n",
    "            nn.Dropout(0.3),\n",
    "            nn.Linear(64, 1),\n",
    "            nn.Sigmoid(),\n",
    "        )\n",
    "\n",
    "    def forward(self, x):\n",
    "        output = self.model(x)\n",
    "        return output\n"
   ]
  },
  {
   "cell_type": "code",
   "execution_count": 24,
   "id": "08d2be6f",
   "metadata": {},
   "outputs": [],
   "source": [
    "discriminator = Discriminator()\n"
   ]
  },
  {
   "cell_type": "code",
   "execution_count": 25,
   "id": "a606c185",
   "metadata": {},
   "outputs": [],
   "source": [
    "class Generator(nn.Module):\n",
    "    def __init__(self):\n",
    "        super().__init__()\n",
    "        self.model = nn.Sequential(\n",
    "            nn.Linear(2, 16),\n",
    "            nn.ReLU(),\n",
    "            nn.Linear(16, 32),\n",
    "            nn.ReLU(),\n",
    "            nn.Linear(32, 2),\n",
    "        )\n",
    "\n",
    "    def forward(self, x):\n",
    "        output = self.model(x)\n",
    "        return output\n",
    "\n",
    "generator = Generator()\n"
   ]
  },
  {
   "cell_type": "code",
   "execution_count": 26,
   "id": "08a8a739",
   "metadata": {},
   "outputs": [],
   "source": [
    "lr = 0.001\n",
    "num_epochs = 300\n",
    "loss_function = nn.BCELoss()\n"
   ]
  },
  {
   "cell_type": "code",
   "execution_count": 27,
   "id": "3051da15",
   "metadata": {},
   "outputs": [],
   "source": [
    "optimizer_discriminator = torch.optim.Adam(discriminator.parameters(), lr=lr)\n",
    "optimizer_generator = torch.optim.Adam(generator.parameters(), lr=lr)\n"
   ]
  },
  {
   "cell_type": "code",
   "execution_count": 28,
   "id": "ed25fb59",
   "metadata": {},
   "outputs": [
    {
     "name": "stdout",
     "output_type": "stream",
     "text": [
      "Epoch: 0 Loss D.: 0.1785350739955902\n",
      "Epoch: 0 Loss G.: 2.0996975898742676\n",
      "Epoch: 10 Loss D.: 0.7121888995170593\n",
      "Epoch: 10 Loss G.: 1.09730064868927\n",
      "Epoch: 20 Loss D.: 0.6232489943504333\n",
      "Epoch: 20 Loss G.: 0.8183892965316772\n",
      "Epoch: 30 Loss D.: 0.6540062427520752\n",
      "Epoch: 30 Loss G.: 0.7324798703193665\n",
      "Epoch: 40 Loss D.: 0.7030712366104126\n",
      "Epoch: 40 Loss G.: 0.6298189163208008\n",
      "Epoch: 50 Loss D.: 0.7324383854866028\n",
      "Epoch: 50 Loss G.: 0.612528920173645\n",
      "Epoch: 60 Loss D.: 0.7083463072776794\n",
      "Epoch: 60 Loss G.: 0.6750767230987549\n",
      "Epoch: 70 Loss D.: 0.6747036576271057\n",
      "Epoch: 70 Loss G.: 0.6621093153953552\n",
      "Epoch: 80 Loss D.: 0.6786369681358337\n",
      "Epoch: 80 Loss G.: 0.8307213187217712\n",
      "Epoch: 90 Loss D.: 0.7172026634216309\n",
      "Epoch: 90 Loss G.: 0.7296101450920105\n",
      "Epoch: 100 Loss D.: 0.7223177552223206\n",
      "Epoch: 100 Loss G.: 0.6459765434265137\n",
      "Epoch: 110 Loss D.: 0.6433588266372681\n",
      "Epoch: 110 Loss G.: 0.958635151386261\n",
      "Epoch: 120 Loss D.: 0.6887722611427307\n",
      "Epoch: 120 Loss G.: 0.6551183462142944\n",
      "Epoch: 130 Loss D.: 0.594694972038269\n",
      "Epoch: 130 Loss G.: 0.8268699049949646\n",
      "Epoch: 140 Loss D.: 0.6477406024932861\n",
      "Epoch: 140 Loss G.: 0.7660036683082581\n",
      "Epoch: 150 Loss D.: 0.6846110224723816\n",
      "Epoch: 150 Loss G.: 0.7819265127182007\n",
      "Epoch: 160 Loss D.: 0.6597579717636108\n",
      "Epoch: 160 Loss G.: 0.7971432209014893\n",
      "Epoch: 170 Loss D.: 0.7158570885658264\n",
      "Epoch: 170 Loss G.: 0.7451550960540771\n",
      "Epoch: 180 Loss D.: 0.7041084170341492\n",
      "Epoch: 180 Loss G.: 0.7165250182151794\n",
      "Epoch: 190 Loss D.: 0.6917177438735962\n",
      "Epoch: 190 Loss G.: 0.7201494574546814\n",
      "Epoch: 200 Loss D.: 0.660402238368988\n",
      "Epoch: 200 Loss G.: 0.6826959848403931\n",
      "Epoch: 210 Loss D.: 0.6562873721122742\n",
      "Epoch: 210 Loss G.: 0.9269267320632935\n",
      "Epoch: 220 Loss D.: 0.6809234023094177\n",
      "Epoch: 220 Loss G.: 0.8184671998023987\n",
      "Epoch: 230 Loss D.: 0.5927886962890625\n",
      "Epoch: 230 Loss G.: 1.0815060138702393\n",
      "Epoch: 240 Loss D.: 0.6642608046531677\n",
      "Epoch: 240 Loss G.: 0.8450109362602234\n",
      "Epoch: 250 Loss D.: 0.6216953992843628\n",
      "Epoch: 250 Loss G.: 0.8578561544418335\n",
      "Epoch: 260 Loss D.: 0.7247873544692993\n",
      "Epoch: 260 Loss G.: 0.7445346117019653\n",
      "Epoch: 270 Loss D.: 0.7063279747962952\n",
      "Epoch: 270 Loss G.: 0.8436625003814697\n",
      "Epoch: 280 Loss D.: 0.6504550576210022\n",
      "Epoch: 280 Loss G.: 0.7516236305236816\n",
      "Epoch: 290 Loss D.: 0.6978657841682434\n",
      "Epoch: 290 Loss G.: 0.7087817788124084\n"
     ]
    }
   ],
   "source": [
    "for epoch in range(num_epochs):\n",
    "    for n, (real_samples, _) in enumerate(train_loader):\n",
    "        # Data for training the discriminator\n",
    "        real_samples_labels = torch.ones((batch_size, 1))\n",
    "        latent_space_samples = torch.randn((batch_size, 2))\n",
    "        generated_samples = generator(latent_space_samples)\n",
    "        generated_samples_labels = torch.zeros((batch_size, 1))\n",
    "        all_samples = torch.cat((real_samples, generated_samples))\n",
    "        all_samples_labels = torch.cat(\n",
    "            (real_samples_labels, generated_samples_labels)\n",
    "        )\n",
    "\n",
    "        # Training the discriminator\n",
    "        discriminator.zero_grad()\n",
    "        output_discriminator = discriminator(all_samples)\n",
    "        loss_discriminator = loss_function(\n",
    "            output_discriminator, all_samples_labels)\n",
    "        loss_discriminator.backward()\n",
    "        optimizer_discriminator.step()\n",
    "\n",
    "        # Data for training the generator\n",
    "        latent_space_samples = torch.randn((batch_size, 2))\n",
    "\n",
    "        # Training the generator\n",
    "        generator.zero_grad()\n",
    "        generated_samples = generator(latent_space_samples)\n",
    "        output_discriminator_generated = discriminator(generated_samples)\n",
    "        loss_generator = loss_function(\n",
    "            output_discriminator_generated, real_samples_labels\n",
    "        )\n",
    "        loss_generator.backward()\n",
    "        optimizer_generator.step()\n",
    "\n",
    "        # Show loss\n",
    "        if epoch % 10 == 0 and n == batch_size - 1:\n",
    "            print(f\"Epoch: {epoch} Loss D.: {loss_discriminator}\")\n",
    "            print(f\"Epoch: {epoch} Loss G.: {loss_generator}\")\n"
   ]
  },
  {
   "cell_type": "code",
   "execution_count": 29,
   "id": "eb516b2c",
   "metadata": {},
   "outputs": [],
   "source": [
    "latent_space_samples = torch.randn(100, 2)\n",
    "generated_samples = generator(latent_space_samples)\n"
   ]
  },
  {
   "cell_type": "code",
   "execution_count": 30,
   "id": "bfa70358",
   "metadata": {},
   "outputs": [
    {
     "data": {
      "text/plain": [
       "[<matplotlib.lines.Line2D at 0x1e0dbbb7e20>]"
      ]
     },
     "execution_count": 30,
     "metadata": {},
     "output_type": "execute_result"
    },
    {
     "data": {
      "image/png": "[encoded data removed]",
      "text/plain": [
       "<Figure size 640x480 with 1 Axes>"
      ]
     },
     "metadata": {},
     "output_type": "display_data"
    }
   ],
   "source": [
    "generated_samples = generated_samples.detach()\n",
    "plt.plot(generated_samples[:, 0], generated_samples[:, 1], \".\")\n"
   ]
  },
  {
   "cell_type": "code",
   "execution_count": null,
   "id": "12807a25",
   "metadata": {},
   "outputs": [],
   "source": []
  }
 ],
 "metadata": {
  "kernelspec": {
   "display_name": "gan",
   "language": "python",
   "name": "gan"
  },
  "language_info": {
   "codemirror_mode": {
    "name": "ipython",
    "version": 3
   },
   "file_extension": ".py",
   "mimetype": "text/x-python",
   "name": "python",
   "nbconvert_exporter": "python",
   "pygments_lexer": "ipython3",
   "version": "3.8.20"
  }
 },
 "nbformat": 4,
 "nbformat_minor": 5
}
